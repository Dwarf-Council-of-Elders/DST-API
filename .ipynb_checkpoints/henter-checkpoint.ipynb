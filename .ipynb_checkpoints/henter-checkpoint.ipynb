{
 "cells": [
  {
   "cell_type": "code",
   "execution_count": 123,
   "metadata": {},
   "outputs": [],
   "source": [
    "import pandas as pd\n",
    "import requests\n",
    "import sqlite3\n",
    "from io import StringIO\n",
    "import pprint"
   ]
  },
  {
   "cell_type": "code",
   "execution_count": 124,
   "metadata": {},
   "outputs": [],
   "source": [
    "db = \"dst.db\"\n",
    "con = sqlite3.connect(db)"
   ]
  },
  {
   "cell_type": "code",
   "execution_count": 125,
   "metadata": {},
   "outputs": [],
   "source": [
    "q = \"\"\"\n",
    "SELECT * FROM tables\n",
    "\"\"\"\n",
    "df = pd.read_sql_query(q, con).set_index(\"tableid\")"
   ]
  },
  {
   "cell_type": "code",
   "execution_count": 126,
   "metadata": {},
   "outputs": [
    {
     "data": {
      "text/html": [
       "<div>\n",
       "<style scoped>\n",
       "    .dataframe tbody tr th:only-of-type {\n",
       "        vertical-align: middle;\n",
       "    }\n",
       "\n",
       "    .dataframe tbody tr th {\n",
       "        vertical-align: top;\n",
       "    }\n",
       "\n",
       "    .dataframe thead th {\n",
       "        text-align: right;\n",
       "    }\n",
       "</style>\n",
       "<table border=\"1\" class=\"dataframe\">\n",
       "  <thead>\n",
       "    <tr style=\"text-align: right;\">\n",
       "      <th></th>\n",
       "      <th>tablename</th>\n",
       "      <th>unit</th>\n",
       "      <th>updated</th>\n",
       "      <th>firstPeriod</th>\n",
       "      <th>latestPeriod</th>\n",
       "      <th>active</th>\n",
       "    </tr>\n",
       "    <tr>\n",
       "      <th>tableid</th>\n",
       "      <th></th>\n",
       "      <th></th>\n",
       "      <th></th>\n",
       "      <th></th>\n",
       "      <th></th>\n",
       "      <th></th>\n",
       "    </tr>\n",
       "  </thead>\n",
       "  <tbody>\n",
       "    <tr>\n",
       "      <th>FOLK1A</th>\n",
       "      <td>Folketal den 1. i kvartalet</td>\n",
       "      <td>Antal</td>\n",
       "      <td>2023-02-10T08:00:00</td>\n",
       "      <td>2008K1</td>\n",
       "      <td>2023K1</td>\n",
       "      <td>1</td>\n",
       "    </tr>\n",
       "    <tr>\n",
       "      <th>FOLK1AM</th>\n",
       "      <td>Folketal den 1. i måneden</td>\n",
       "      <td>Antal</td>\n",
       "      <td>2023-03-10T08:00:00</td>\n",
       "      <td>2021M10</td>\n",
       "      <td>2023M02</td>\n",
       "      <td>1</td>\n",
       "    </tr>\n",
       "  </tbody>\n",
       "</table>\n",
       "</div>"
      ],
      "text/plain": [
       "                           tablename   unit              updated firstPeriod  \\\n",
       "tableid                                                                        \n",
       "FOLK1A   Folketal den 1. i kvartalet  Antal  2023-02-10T08:00:00      2008K1   \n",
       "FOLK1AM    Folketal den 1. i måneden  Antal  2023-03-10T08:00:00     2021M10   \n",
       "\n",
       "        latestPeriod  active  \n",
       "tableid                       \n",
       "FOLK1A        2023K1       1  \n",
       "FOLK1AM      2023M02       1  "
      ]
     },
     "execution_count": 126,
     "metadata": {},
     "output_type": "execute_result"
    }
   ],
   "source": [
    "df.head(2)"
   ]
  },
  {
   "cell_type": "code",
   "execution_count": 143,
   "metadata": {},
   "outputs": [],
   "source": [
    "class Variable:\n",
    "\n",
    "    def __init__(self, id_, vals):\n",
    "        self.id_ = id_\n",
    "        self.rå_vals = vals\n",
    "        self.create_vals()\n",
    "        self.chosen = []\n",
    "        self.repr_dict = {}\n",
    "        self._antal_var = len(self.rå_vals)\n",
    "        self.update_repr()\n",
    "\n",
    "    def update_repr(self):\n",
    "        self._valgte = len(self.chosen)\n",
    "\n",
    "    def create_vals(self):\n",
    "        df = (\n",
    "            pd.DataFrame(self.rå_vals)\n",
    "            .rename(columns={\"id\": \"id_var\"})\n",
    "        )\n",
    "        self.vals = df\n",
    "\n",
    "    def set_vals(self, df):\n",
    "        self.chosen = df.id_var.to_list()\n",
    "        self.update_repr()\n",
    "\n",
    "    def create_query(self):\n",
    "        return {\n",
    "            \"code\": self.id_,\n",
    "            \"values\": self.chosen\n",
    "        }\n",
    "\n",
    "    def __repr__(self):\n",
    "        return f\"<Var: {self.id_}, valgt: {self._valgte}, i alt: {self._antal_var}>\"\n",
    "\n",
    "\n",
    "class DataSelector:\n",
    "    def __init__(self, tablename):\n",
    "        url = \"https://api.statbank.dk/v1/tableinfo\"\n",
    "        self.tablename = tablename\n",
    "        payload = {\n",
    "           \"table\": self.tablename,\n",
    "           \"format\": \"JSON\"\n",
    "        }\n",
    "        self.rå_metadata = requests.post(url, payload).json()\n",
    "        self.make_tables()\n",
    "    \n",
    "    def make_tables(self):\n",
    "        res = {}\n",
    "        for var in self.rå_metadata[\"variables\"]:\n",
    "            id_  = var[\"id\"]\n",
    "            vals = var[\"values\"]\n",
    "            res[id_] = Variable(id_, vals)\n",
    "        self.vars = res\n",
    "        \n",
    "    def create_query(self):\n",
    "        vars = [x.create_query() for x in self.vars.values()]\n",
    "        vars = [x for x in vars if len(x[\"values\"]) != 0]\n",
    "        payload = {\n",
    "           \"table\": self.tablename,\n",
    "           \"format\": \"CSV\"\n",
    "        }\n",
    "        if vars != []:\n",
    "            payload[\"variables\"] = vars\n",
    "        return base\n",
    "    \n",
    "    def get_data(self):\n",
    "        url = \"https://api.statbank.dk/v1/data\"\n",
    "        headers = {'Content-Type': 'application/json'}\n",
    "        resp = requests.post(url, self.create_query(), headers=headers)\n",
    "        print(resp.text)\n",
    "        df = pd.read_csv(\n",
    "            StringIO(\n",
    "                resp.text\n",
    "            ),\n",
    "            sep=\";\"\n",
    "        )\n",
    "        return df\n",
    "    \n",
    "    def __repr__(self):\n",
    "        pprint.pprint(self.vars)\n",
    "        return \"\"\n",
    "    \n",
    "    def __getitem__(self, key):\n",
    "        return self.vars[key]\n",
    "    \n",
    "    def __setitem__(self, key, new_val):\n",
    "        if new_val is True:\n",
    "            self.vars[key].set_vals(self.vars[key].vals)\n",
    "        else:\n",
    "            self.vars[key].set_vals(new_val)\n",
    "        \n",
    "m = DataSelector(\"FOLK2\")"
   ]
  },
  {
   "cell_type": "code",
   "execution_count": 128,
   "metadata": {},
   "outputs": [],
   "source": []
  },
  {
   "cell_type": "code",
   "execution_count": 144,
   "metadata": {},
   "outputs": [
    {
     "name": "stdout",
     "output_type": "stream",
     "text": [
      "{\"errorTypeCode\":\"REQUEST-EMPTY\",\"message\":\"Medsend gyldigt JSON-objekt når der postes. / Supply valid JSON-object when posting.\"}\n"
     ]
    },
    {
     "data": {
      "text/html": [
       "<div>\n",
       "<style scoped>\n",
       "    .dataframe tbody tr th:only-of-type {\n",
       "        vertical-align: middle;\n",
       "    }\n",
       "\n",
       "    .dataframe tbody tr th {\n",
       "        vertical-align: top;\n",
       "    }\n",
       "\n",
       "    .dataframe thead th {\n",
       "        text-align: right;\n",
       "    }\n",
       "</style>\n",
       "<table border=\"1\" class=\"dataframe\">\n",
       "  <thead>\n",
       "    <tr style=\"text-align: right;\">\n",
       "      <th></th>\n",
       "      <th>{\"errorTypeCode\":\"REQUEST-EMPTY\",\"message\":\"Medsend gyldigt JSON-objekt når der postes. / Supply valid JSON-object when posting.\"}</th>\n",
       "    </tr>\n",
       "  </thead>\n",
       "  <tbody>\n",
       "  </tbody>\n",
       "</table>\n",
       "</div>"
      ],
      "text/plain": [
       "Empty DataFrame\n",
       "Columns: [{\"errorTypeCode\":\"REQUEST-EMPTY\",\"message\":\"Medsend gyldigt JSON-objekt når der postes. / Supply valid JSON-object when posting.\"}]\n",
       "Index: []"
      ]
     },
     "execution_count": 144,
     "metadata": {},
     "output_type": "execute_result"
    }
   ],
   "source": [
    "m.get_data()"
   ]
  },
  {
   "cell_type": "code",
   "execution_count": 145,
   "metadata": {},
   "outputs": [
    {
     "data": {
      "text/plain": [
       "{'table': 'FOLK2', 'format': 'CSV', 'variables': []}"
      ]
     },
     "execution_count": 145,
     "metadata": {},
     "output_type": "execute_result"
    }
   ],
   "source": [
    "m.create_query()"
   ]
  },
  {
   "cell_type": "code",
   "execution_count": 131,
   "metadata": {},
   "outputs": [
    {
     "data": {
      "text/plain": [
       "'{\"errorTypeCode\":\"SYSTEM-100\",\"message\":\"Der er opstået en fejl.\"}'"
      ]
     },
     "execution_count": 131,
     "metadata": {},
     "output_type": "execute_result"
    }
   ],
   "source": [
    "\n",
    "url = \"https://api.statbank.dk/v1/data\"\n",
    "resp = requests.post(url, m.create_query())\n",
    "resp.text"
   ]
  }
 ],
 "metadata": {
  "kernelspec": {
   "display_name": "Python 3 (ipykernel)",
   "language": "python",
   "name": "python3"
  },
  "language_info": {
   "codemirror_mode": {
    "name": "ipython",
    "version": 3
   },
   "file_extension": ".py",
   "mimetype": "text/x-python",
   "name": "python",
   "nbconvert_exporter": "python",
   "pygments_lexer": "ipython3",
   "version": "3.8.12"
  }
 },
 "nbformat": 4,
 "nbformat_minor": 2
}
