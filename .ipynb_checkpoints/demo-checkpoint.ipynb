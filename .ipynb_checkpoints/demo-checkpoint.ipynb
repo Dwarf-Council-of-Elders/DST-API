{
 "cells": [
  {
   "cell_type": "markdown",
   "metadata": {},
   "source": [
    "# Imports  \n",
    "Vi importerer to funktioner fra 'funktioner.py':  \n",
    "1. Metadata\n",
    "2. DataSelector"
   ]
  },
  {
   "cell_type": "code",
   "execution_count": 1,
   "metadata": {},
   "outputs": [],
   "source": [
    "import pandas as pd\n",
    "from funktioner import Metadata, DataSelector"
   ]
  },
  {
   "cell_type": "markdown",
   "metadata": {},
   "source": [
    "# Demonstration af metadata"
   ]
  },
  {
   "cell_type": "markdown",
   "metadata": {},
   "source": [
    "Først genererer vi et metadata-objekt, som henter og forbereder data for os.  \n",
    "Metadata renser metadata fra DST's api og genererer 3 tables, som vi kan anvende på forskellig vis.  \n",
    "Vi kan få en miniguide ved at kalde metadata-objektet efter, at vi har initieret det."
   ]
  },
  {
   "cell_type": "code",
   "execution_count": 2,
   "metadata": {},
   "outputs": [
    {
     "data": {
      "text/plain": [
       "Brug en af 3 følgende kommandoer:\n",
       "1. self.metadata (returnerer udvidede metadata for tables)\n",
       "2. self.tables (returnerer tables, som kan kaldes)\n",
       "3. self.variables (returnerer de variable, som tables indeholder)"
      ]
     },
     "execution_count": 2,
     "metadata": {},
     "output_type": "execute_result"
    }
   ],
   "source": [
    "metadata = Metadata()\n",
    "metadata # Returnerer en guide, hvis objektet kaldes rent"
   ]
  },
  {
   "cell_type": "markdown",
   "metadata": {},
   "source": [
    "Vi kan nu kigge på de tables, som Danmarks-statistik udbyder.  \n",
    "I tabelen ser vi, at der er en kolonne, der hedder 'lvl3_desc'.  \n",
    "Denne kolonne er det laveste niveau af klassificering, som DST anvender.  "
   ]
  },
  {
   "cell_type": "code",
   "execution_count": 3,
   "metadata": {},
   "outputs": [
    {
     "data": {
      "text/html": [
       "<div>\n",
       "<style scoped>\n",
       "    .dataframe tbody tr th:only-of-type {\n",
       "        vertical-align: middle;\n",
       "    }\n",
       "\n",
       "    .dataframe tbody tr th {\n",
       "        vertical-align: top;\n",
       "    }\n",
       "\n",
       "    .dataframe thead th {\n",
       "        text-align: right;\n",
       "    }\n",
       "</style>\n",
       "<table border=\"1\" class=\"dataframe\">\n",
       "  <thead>\n",
       "    <tr style=\"text-align: right;\">\n",
       "      <th></th>\n",
       "      <th>lvl3_desc</th>\n",
       "      <th>firstPeriod</th>\n",
       "      <th>latestPeriod</th>\n",
       "      <th>updated</th>\n",
       "      <th>active</th>\n",
       "      <th>variables</th>\n",
       "    </tr>\n",
       "    <tr>\n",
       "      <th>tableid</th>\n",
       "      <th></th>\n",
       "      <th></th>\n",
       "      <th></th>\n",
       "      <th></th>\n",
       "      <th></th>\n",
       "      <th></th>\n",
       "    </tr>\n",
       "  </thead>\n",
       "  <tbody>\n",
       "    <tr>\n",
       "      <th>FOLK1A</th>\n",
       "      <td>Befolkningstal</td>\n",
       "      <td>2008K1</td>\n",
       "      <td>2023K1</td>\n",
       "      <td>2023-02-10T08:00:00</td>\n",
       "      <td>True</td>\n",
       "      <td>[område, køn, alder, civilstand, tid]</td>\n",
       "    </tr>\n",
       "    <tr>\n",
       "      <th>FOLK1AM</th>\n",
       "      <td>Befolkningstal</td>\n",
       "      <td>2021M10</td>\n",
       "      <td>2023M02</td>\n",
       "      <td>2023-03-10T08:00:00</td>\n",
       "      <td>True</td>\n",
       "      <td>[område, køn, alder, tid]</td>\n",
       "    </tr>\n",
       "    <tr>\n",
       "      <th>BEFOLK1</th>\n",
       "      <td>Befolkningstal</td>\n",
       "      <td>1971</td>\n",
       "      <td>2023</td>\n",
       "      <td>2023-03-01T08:00:00</td>\n",
       "      <td>True</td>\n",
       "      <td>[køn, alder, civilstand, tid]</td>\n",
       "    </tr>\n",
       "    <tr>\n",
       "      <th>BEFOLK2</th>\n",
       "      <td>Befolkningstal</td>\n",
       "      <td>1901</td>\n",
       "      <td>2023</td>\n",
       "      <td>2023-03-01T08:00:00</td>\n",
       "      <td>True</td>\n",
       "      <td>[køn, alder, tid]</td>\n",
       "    </tr>\n",
       "    <tr>\n",
       "      <th>FOLK3</th>\n",
       "      <td>Befolkningstal</td>\n",
       "      <td>2008</td>\n",
       "      <td>2023</td>\n",
       "      <td>2023-02-10T08:00:00</td>\n",
       "      <td>True</td>\n",
       "      <td>[fødselsdag, fødselsmåned, fødselsår, tid]</td>\n",
       "    </tr>\n",
       "  </tbody>\n",
       "</table>\n",
       "</div>"
      ],
      "text/plain": [
       "              lvl3_desc firstPeriod latestPeriod              updated  active  \\\n",
       "tableid                                                                         \n",
       "FOLK1A   Befolkningstal      2008K1       2023K1  2023-02-10T08:00:00    True   \n",
       "FOLK1AM  Befolkningstal     2021M10      2023M02  2023-03-10T08:00:00    True   \n",
       "BEFOLK1  Befolkningstal        1971         2023  2023-03-01T08:00:00    True   \n",
       "BEFOLK2  Befolkningstal        1901         2023  2023-03-01T08:00:00    True   \n",
       "FOLK3    Befolkningstal        2008         2023  2023-02-10T08:00:00    True   \n",
       "\n",
       "                                          variables  \n",
       "tableid                                              \n",
       "FOLK1A        [område, køn, alder, civilstand, tid]  \n",
       "FOLK1AM                   [område, køn, alder, tid]  \n",
       "BEFOLK1               [køn, alder, civilstand, tid]  \n",
       "BEFOLK2                           [køn, alder, tid]  \n",
       "FOLK3    [fødselsdag, fødselsmåned, fødselsår, tid]  "
      ]
     },
     "execution_count": 3,
     "metadata": {},
     "output_type": "execute_result"
    }
   ],
   "source": [
    "metadata.tables.head()"
   ]
  },
  {
   "cell_type": "markdown",
   "metadata": {},
   "source": [
    "Under variable kan vi f.eks. finde ud af, hvilke variable, vi finder i de enkelte tables.  \n",
    "Her er det 'FOLK1AM' som vi kigger på:  "
   ]
  },
  {
   "cell_type": "code",
   "execution_count": 4,
   "metadata": {},
   "outputs": [
    {
     "data": {
      "text/html": [
       "<div>\n",
       "<style scoped>\n",
       "    .dataframe tbody tr th:only-of-type {\n",
       "        vertical-align: middle;\n",
       "    }\n",
       "\n",
       "    .dataframe tbody tr th {\n",
       "        vertical-align: top;\n",
       "    }\n",
       "\n",
       "    .dataframe thead th {\n",
       "        text-align: right;\n",
       "    }\n",
       "</style>\n",
       "<table border=\"1\" class=\"dataframe\">\n",
       "  <thead>\n",
       "    <tr style=\"text-align: right;\">\n",
       "      <th></th>\n",
       "      <th>tableid</th>\n",
       "      <th>lvl3_desc</th>\n",
       "      <th>firstPeriod</th>\n",
       "      <th>latestPeriod</th>\n",
       "      <th>updated</th>\n",
       "      <th>active</th>\n",
       "      <th>variables</th>\n",
       "    </tr>\n",
       "  </thead>\n",
       "  <tbody>\n",
       "    <tr>\n",
       "      <th>0</th>\n",
       "      <td>FOLK1AM</td>\n",
       "      <td>Befolkningstal</td>\n",
       "      <td>2021M10</td>\n",
       "      <td>2023M02</td>\n",
       "      <td>2023-03-10T08:00:00</td>\n",
       "      <td>True</td>\n",
       "      <td>område</td>\n",
       "    </tr>\n",
       "    <tr>\n",
       "      <th>0</th>\n",
       "      <td>FOLK1AM</td>\n",
       "      <td>Befolkningstal</td>\n",
       "      <td>2021M10</td>\n",
       "      <td>2023M02</td>\n",
       "      <td>2023-03-10T08:00:00</td>\n",
       "      <td>True</td>\n",
       "      <td>køn</td>\n",
       "    </tr>\n",
       "    <tr>\n",
       "      <th>0</th>\n",
       "      <td>FOLK1AM</td>\n",
       "      <td>Befolkningstal</td>\n",
       "      <td>2021M10</td>\n",
       "      <td>2023M02</td>\n",
       "      <td>2023-03-10T08:00:00</td>\n",
       "      <td>True</td>\n",
       "      <td>alder</td>\n",
       "    </tr>\n",
       "    <tr>\n",
       "      <th>0</th>\n",
       "      <td>FOLK1AM</td>\n",
       "      <td>Befolkningstal</td>\n",
       "      <td>2021M10</td>\n",
       "      <td>2023M02</td>\n",
       "      <td>2023-03-10T08:00:00</td>\n",
       "      <td>True</td>\n",
       "      <td>tid</td>\n",
       "    </tr>\n",
       "  </tbody>\n",
       "</table>\n",
       "</div>"
      ],
      "text/plain": [
       "   tableid       lvl3_desc firstPeriod latestPeriod              updated  \\\n",
       "0  FOLK1AM  Befolkningstal     2021M10      2023M02  2023-03-10T08:00:00   \n",
       "0  FOLK1AM  Befolkningstal     2021M10      2023M02  2023-03-10T08:00:00   \n",
       "0  FOLK1AM  Befolkningstal     2021M10      2023M02  2023-03-10T08:00:00   \n",
       "0  FOLK1AM  Befolkningstal     2021M10      2023M02  2023-03-10T08:00:00   \n",
       "\n",
       "   active variables  \n",
       "0    True    område  \n",
       "0    True       køn  \n",
       "0    True     alder  \n",
       "0    True       tid  "
      ]
     },
     "execution_count": 4,
     "metadata": {},
     "output_type": "execute_result"
    }
   ],
   "source": [
    "(\n",
    "    metadata\n",
    "    .variables\n",
    "    .query(\"tableid == 'FOLK1AM'\")\n",
    ")"
   ]
  },
  {
   "cell_type": "markdown",
   "metadata": {},
   "source": [
    "Vi kan ligeledes gå den anden vej rundt og lokalisere alle tables indeholdene en bestemt variabel.  \n",
    "Nedenfor kigger vi efter variabler, der:  \n",
    "1. indeholder 'sektor'-data,  \n",
    "2. som er en del af kategorien 'Arbejdstidsregnskab',  \n",
    "3. som udbyder måneds eller kvartalvise regnskaber,  \n",
    "4. og som er aktive  \n",
    "\n",
    "Vi gemmer resultatet i en variabel, så vi kan bruge den nedenfor. "
   ]
  },
  {
   "cell_type": "code",
   "execution_count": 18,
   "metadata": {},
   "outputs": [
    {
     "data": {
      "text/html": [
       "<div>\n",
       "<style scoped>\n",
       "    .dataframe tbody tr th:only-of-type {\n",
       "        vertical-align: middle;\n",
       "    }\n",
       "\n",
       "    .dataframe tbody tr th {\n",
       "        vertical-align: top;\n",
       "    }\n",
       "\n",
       "    .dataframe thead th {\n",
       "        text-align: right;\n",
       "    }\n",
       "</style>\n",
       "<table border=\"1\" class=\"dataframe\">\n",
       "  <thead>\n",
       "    <tr style=\"text-align: right;\">\n",
       "      <th></th>\n",
       "      <th>tableid</th>\n",
       "      <th>lvl3_desc</th>\n",
       "      <th>firstPeriod</th>\n",
       "      <th>latestPeriod</th>\n",
       "      <th>updated</th>\n",
       "      <th>active</th>\n",
       "      <th>variables</th>\n",
       "    </tr>\n",
       "  </thead>\n",
       "  <tbody>\n",
       "    <tr>\n",
       "      <th>1</th>\n",
       "      <td>ATR110</td>\n",
       "      <td>Arbejdstidsregnskab</td>\n",
       "      <td>2008K1</td>\n",
       "      <td>2022K4</td>\n",
       "      <td>2023-03-15T08:00:00</td>\n",
       "      <td>True</td>\n",
       "      <td>sektor</td>\n",
       "    </tr>\n",
       "    <tr>\n",
       "      <th>1</th>\n",
       "      <td>ATR114</td>\n",
       "      <td>Arbejdstidsregnskab</td>\n",
       "      <td>2008K1</td>\n",
       "      <td>2022K4</td>\n",
       "      <td>2023-03-15T08:00:00</td>\n",
       "      <td>True</td>\n",
       "      <td>sektor</td>\n",
       "    </tr>\n",
       "  </tbody>\n",
       "</table>\n",
       "</div>"
      ],
      "text/plain": [
       "  tableid            lvl3_desc firstPeriod latestPeriod              updated  \\\n",
       "1  ATR110  Arbejdstidsregnskab      2008K1       2022K4  2023-03-15T08:00:00   \n",
       "1  ATR114  Arbejdstidsregnskab      2008K1       2022K4  2023-03-15T08:00:00   \n",
       "\n",
       "   active variables  \n",
       "1    True    sektor  \n",
       "1    True    sektor  "
      ]
     },
     "execution_count": 18,
     "metadata": {},
     "output_type": "execute_result"
    }
   ],
   "source": [
    "df_filter = (\n",
    "    metadata\n",
    "    .variables\n",
    "    .query(\"variables == 'sektor'\")\n",
    "    .query(\"lvl3_desc == 'Arbejdstidsregnskab'\")\n",
    "    .query(\n",
    "        \"firstPeriod.str.contains('M') or \" \n",
    "        \"firstPeriod.str.contains('K')\"\n",
    "    )\n",
    "    .query(\"active\")\n",
    ")\n",
    "df_filter"
   ]
  },
  {
   "cell_type": "markdown",
   "metadata": {},
   "source": [
    "Vi ser, at vi har fundet to tabeller, der lever op til kriterierne.  \n",
    "Vi kan bruge denne liste til at finde forskellene på de to tabeller. "
   ]
  },
  {
   "cell_type": "code",
   "execution_count": 26,
   "metadata": {},
   "outputs": [
    {
     "data": {
      "text/html": [
       "<div>\n",
       "<style scoped>\n",
       "    .dataframe tbody tr th:only-of-type {\n",
       "        vertical-align: middle;\n",
       "    }\n",
       "\n",
       "    .dataframe tbody tr th {\n",
       "        vertical-align: top;\n",
       "    }\n",
       "\n",
       "    .dataframe thead th {\n",
       "        text-align: right;\n",
       "    }\n",
       "</style>\n",
       "<table border=\"1\" class=\"dataframe\">\n",
       "  <thead>\n",
       "    <tr style=\"text-align: right;\">\n",
       "      <th></th>\n",
       "      <th></th>\n",
       "      <th>lvl3_desc</th>\n",
       "      <th>firstPeriod</th>\n",
       "      <th>latestPeriod</th>\n",
       "      <th>updated</th>\n",
       "      <th>active</th>\n",
       "    </tr>\n",
       "    <tr>\n",
       "      <th>tableid</th>\n",
       "      <th>variables</th>\n",
       "      <th></th>\n",
       "      <th></th>\n",
       "      <th></th>\n",
       "      <th></th>\n",
       "      <th></th>\n",
       "    </tr>\n",
       "  </thead>\n",
       "  <tbody>\n",
       "    <tr>\n",
       "      <th rowspan=\"5\" valign=\"top\">ATR110</th>\n",
       "      <th>branche (DB07)</th>\n",
       "      <td>Arbejdstidsregnskab</td>\n",
       "      <td>2008K1</td>\n",
       "      <td>2022K4</td>\n",
       "      <td>2023-03-15T08:00:00</td>\n",
       "      <td>True</td>\n",
       "    </tr>\n",
       "    <tr>\n",
       "      <th>sektor</th>\n",
       "      <td>Arbejdstidsregnskab</td>\n",
       "      <td>2008K1</td>\n",
       "      <td>2022K4</td>\n",
       "      <td>2023-03-15T08:00:00</td>\n",
       "      <td>True</td>\n",
       "    </tr>\n",
       "    <tr>\n",
       "      <th>type</th>\n",
       "      <td>Arbejdstidsregnskab</td>\n",
       "      <td>2008K1</td>\n",
       "      <td>2022K4</td>\n",
       "      <td>2023-03-15T08:00:00</td>\n",
       "      <td>True</td>\n",
       "    </tr>\n",
       "    <tr>\n",
       "      <th>socioøkonomisk status</th>\n",
       "      <td>Arbejdstidsregnskab</td>\n",
       "      <td>2008K1</td>\n",
       "      <td>2022K4</td>\n",
       "      <td>2023-03-15T08:00:00</td>\n",
       "      <td>True</td>\n",
       "    </tr>\n",
       "    <tr>\n",
       "      <th>tid</th>\n",
       "      <td>Arbejdstidsregnskab</td>\n",
       "      <td>2008K1</td>\n",
       "      <td>2022K4</td>\n",
       "      <td>2023-03-15T08:00:00</td>\n",
       "      <td>True</td>\n",
       "    </tr>\n",
       "    <tr>\n",
       "      <th rowspan=\"4\" valign=\"top\">ATR114</th>\n",
       "      <th>sektor</th>\n",
       "      <td>Arbejdstidsregnskab</td>\n",
       "      <td>2008K1</td>\n",
       "      <td>2022K4</td>\n",
       "      <td>2023-03-15T08:00:00</td>\n",
       "      <td>True</td>\n",
       "    </tr>\n",
       "    <tr>\n",
       "      <th>type</th>\n",
       "      <td>Arbejdstidsregnskab</td>\n",
       "      <td>2008K1</td>\n",
       "      <td>2022K4</td>\n",
       "      <td>2023-03-15T08:00:00</td>\n",
       "      <td>True</td>\n",
       "    </tr>\n",
       "    <tr>\n",
       "      <th>socioøkonomisk status</th>\n",
       "      <td>Arbejdstidsregnskab</td>\n",
       "      <td>2008K1</td>\n",
       "      <td>2022K4</td>\n",
       "      <td>2023-03-15T08:00:00</td>\n",
       "      <td>True</td>\n",
       "    </tr>\n",
       "    <tr>\n",
       "      <th>tid</th>\n",
       "      <td>Arbejdstidsregnskab</td>\n",
       "      <td>2008K1</td>\n",
       "      <td>2022K4</td>\n",
       "      <td>2023-03-15T08:00:00</td>\n",
       "      <td>True</td>\n",
       "    </tr>\n",
       "  </tbody>\n",
       "</table>\n",
       "</div>"
      ],
      "text/plain": [
       "                                         lvl3_desc firstPeriod latestPeriod  \\\n",
       "tableid variables                                                             \n",
       "ATR110  branche (DB07)         Arbejdstidsregnskab      2008K1       2022K4   \n",
       "        sektor                 Arbejdstidsregnskab      2008K1       2022K4   \n",
       "        type                   Arbejdstidsregnskab      2008K1       2022K4   \n",
       "        socioøkonomisk status  Arbejdstidsregnskab      2008K1       2022K4   \n",
       "        tid                    Arbejdstidsregnskab      2008K1       2022K4   \n",
       "ATR114  sektor                 Arbejdstidsregnskab      2008K1       2022K4   \n",
       "        type                   Arbejdstidsregnskab      2008K1       2022K4   \n",
       "        socioøkonomisk status  Arbejdstidsregnskab      2008K1       2022K4   \n",
       "        tid                    Arbejdstidsregnskab      2008K1       2022K4   \n",
       "\n",
       "                                           updated  active  \n",
       "tableid variables                                           \n",
       "ATR110  branche (DB07)         2023-03-15T08:00:00    True  \n",
       "        sektor                 2023-03-15T08:00:00    True  \n",
       "        type                   2023-03-15T08:00:00    True  \n",
       "        socioøkonomisk status  2023-03-15T08:00:00    True  \n",
       "        tid                    2023-03-15T08:00:00    True  \n",
       "ATR114  sektor                 2023-03-15T08:00:00    True  \n",
       "        type                   2023-03-15T08:00:00    True  \n",
       "        socioøkonomisk status  2023-03-15T08:00:00    True  \n",
       "        tid                    2023-03-15T08:00:00    True  "
      ]
     },
     "execution_count": 26,
     "metadata": {},
     "output_type": "execute_result"
    }
   ],
   "source": [
    "(\n",
    "    metadata\n",
    "    .variables\n",
    "    .query(\"tableid.isin(@df_filter.tableid)\")\n",
    "    .set_index([\"tableid\", \"variables\"])\n",
    ")"
   ]
  },
  {
   "cell_type": "markdown",
   "metadata": {},
   "source": [
    "Vi kan nu se, at forskellen er, at ATR110 indeholder branchedata, hvilket ATR114 ikke gør. "
   ]
  },
  {
   "cell_type": "markdown",
   "metadata": {},
   "source": [
    "# Datahentning"
   ]
  },
  {
   "cell_type": "markdown",
   "metadata": {},
   "source": [
    "Vi vil i det følgende tage udgangspunkt i tabellen ATR110.  \n",
    "Vi starter med at kalde følgende funktion for at igangsætte hentningsprocessen. "
   ]
  },
  {
   "cell_type": "code",
   "execution_count": 27,
   "metadata": {},
   "outputs": [],
   "source": [
    "ds = DataSelector(\"ATR110\")"
   ]
  },
  {
   "cell_type": "markdown",
   "metadata": {},
   "source": [
    "Hvis vi kalder objektet rent, så får vi et overblik over de variable, vi har tilgængelige.  \n",
    "Vi kan i det nedenstående se:  \n",
    "1. Hvad variablen hedder, \n",
    "2. hvor mange af valgmuligheder, vi har udvalgt,  \n",
    "3. og hvor mange valgmuligheder, som vi har i alt  \n",
    "\n",
    "Som det fremgår, så har vi ikke udvalgt nogen variable endnu."
   ]
  },
  {
   "cell_type": "code",
   "execution_count": 28,
   "metadata": {},
   "outputs": [
    {
     "name": "stdout",
     "output_type": "stream",
     "text": [
      "{'BRANCHE07': <Var: BRANCHE07, valgt: 0, i alt: 32>,\n",
      " 'SEKTOR': <Var: SEKTOR, valgt: 0, i alt: 3>,\n",
      " 'SOCIO': <Var: SOCIO, valgt: 0, i alt: 3>,\n",
      " 'TYPE': <Var: TYPE, valgt: 0, i alt: 4>,\n",
      " 'Tid': <Var: Tid, valgt: 0, i alt: 60>}\n"
     ]
    },
    {
     "data": {
      "text/plain": []
     },
     "execution_count": 28,
     "metadata": {},
     "output_type": "execute_result"
    }
   ],
   "source": [
    "ds"
   ]
  },
  {
   "cell_type": "markdown",
   "metadata": {},
   "source": [
    "For at få adgang til de valgmuligheder, som vi har for hver variabel, så kan vi slå op variablen som følger:  "
   ]
  },
  {
   "cell_type": "code",
   "execution_count": 35,
   "metadata": {},
   "outputs": [
    {
     "data": {
      "text/html": [
       "<div>\n",
       "<style scoped>\n",
       "    .dataframe tbody tr th:only-of-type {\n",
       "        vertical-align: middle;\n",
       "    }\n",
       "\n",
       "    .dataframe tbody tr th {\n",
       "        vertical-align: top;\n",
       "    }\n",
       "\n",
       "    .dataframe thead th {\n",
       "        text-align: right;\n",
       "    }\n",
       "</style>\n",
       "<table border=\"1\" class=\"dataframe\">\n",
       "  <thead>\n",
       "    <tr style=\"text-align: right;\">\n",
       "      <th></th>\n",
       "      <th>id_var</th>\n",
       "      <th>text</th>\n",
       "    </tr>\n",
       "  </thead>\n",
       "  <tbody>\n",
       "    <tr>\n",
       "      <th>0</th>\n",
       "      <td>TOT</td>\n",
       "      <td>TOT Erhverv i alt</td>\n",
       "    </tr>\n",
       "    <tr>\n",
       "      <th>1</th>\n",
       "      <td>1</td>\n",
       "      <td>1 Landbrug, skovbrug og fiskeri</td>\n",
       "    </tr>\n",
       "    <tr>\n",
       "      <th>2</th>\n",
       "      <td>A</td>\n",
       "      <td>A Landbrug, skovbrug og fiskeri</td>\n",
       "    </tr>\n",
       "    <tr>\n",
       "      <th>3</th>\n",
       "      <td>2</td>\n",
       "      <td>2 Industri, råstofindvinding og forsyningsvirk...</td>\n",
       "    </tr>\n",
       "    <tr>\n",
       "      <th>4</th>\n",
       "      <td>B</td>\n",
       "      <td>B Råstofindvinding</td>\n",
       "    </tr>\n",
       "    <tr>\n",
       "      <th>5</th>\n",
       "      <td>C</td>\n",
       "      <td>C Industri</td>\n",
       "    </tr>\n",
       "    <tr>\n",
       "      <th>6</th>\n",
       "      <td>D</td>\n",
       "      <td>D Energiforsyning</td>\n",
       "    </tr>\n",
       "    <tr>\n",
       "      <th>7</th>\n",
       "      <td>E</td>\n",
       "      <td>E Vandforsyning og renovation</td>\n",
       "    </tr>\n",
       "    <tr>\n",
       "      <th>8</th>\n",
       "      <td>3</td>\n",
       "      <td>3 Bygge og anlæg</td>\n",
       "    </tr>\n",
       "    <tr>\n",
       "      <th>9</th>\n",
       "      <td>F</td>\n",
       "      <td>F Bygge og anlæg</td>\n",
       "    </tr>\n",
       "    <tr>\n",
       "      <th>10</th>\n",
       "      <td>4</td>\n",
       "      <td>4 Handel og transport mv.</td>\n",
       "    </tr>\n",
       "    <tr>\n",
       "      <th>11</th>\n",
       "      <td>G</td>\n",
       "      <td>G Handel</td>\n",
       "    </tr>\n",
       "    <tr>\n",
       "      <th>12</th>\n",
       "      <td>H</td>\n",
       "      <td>H Transport</td>\n",
       "    </tr>\n",
       "    <tr>\n",
       "      <th>13</th>\n",
       "      <td>I</td>\n",
       "      <td>I Hoteller og restauranter</td>\n",
       "    </tr>\n",
       "    <tr>\n",
       "      <th>14</th>\n",
       "      <td>5</td>\n",
       "      <td>5 Information og kommunikation</td>\n",
       "    </tr>\n",
       "    <tr>\n",
       "      <th>15</th>\n",
       "      <td>J</td>\n",
       "      <td>J Information og kommunikation</td>\n",
       "    </tr>\n",
       "    <tr>\n",
       "      <th>16</th>\n",
       "      <td>6</td>\n",
       "      <td>6 Finansiering og forsikring</td>\n",
       "    </tr>\n",
       "    <tr>\n",
       "      <th>17</th>\n",
       "      <td>K</td>\n",
       "      <td>K Finansiering og forsikring</td>\n",
       "    </tr>\n",
       "    <tr>\n",
       "      <th>18</th>\n",
       "      <td>7</td>\n",
       "      <td>7 Ejendomshandel og udlejning</td>\n",
       "    </tr>\n",
       "    <tr>\n",
       "      <th>19</th>\n",
       "      <td>L</td>\n",
       "      <td>L Ejendomshandel og udlejning</td>\n",
       "    </tr>\n",
       "    <tr>\n",
       "      <th>20</th>\n",
       "      <td>8</td>\n",
       "      <td>8 Erhvervsservice</td>\n",
       "    </tr>\n",
       "    <tr>\n",
       "      <th>21</th>\n",
       "      <td>M</td>\n",
       "      <td>M Videnservice</td>\n",
       "    </tr>\n",
       "    <tr>\n",
       "      <th>22</th>\n",
       "      <td>N</td>\n",
       "      <td>N Rejsebureauer, rengøring og anden operatione...</td>\n",
       "    </tr>\n",
       "    <tr>\n",
       "      <th>23</th>\n",
       "      <td>9</td>\n",
       "      <td>9 Offentlig administration, undervisning og su...</td>\n",
       "    </tr>\n",
       "    <tr>\n",
       "      <th>24</th>\n",
       "      <td>O</td>\n",
       "      <td>O Offentlig administration, forsvar og politi</td>\n",
       "    </tr>\n",
       "    <tr>\n",
       "      <th>25</th>\n",
       "      <td>P</td>\n",
       "      <td>P Undervisning</td>\n",
       "    </tr>\n",
       "    <tr>\n",
       "      <th>26</th>\n",
       "      <td>Q</td>\n",
       "      <td>Q Sundhed og socialvæsen</td>\n",
       "    </tr>\n",
       "    <tr>\n",
       "      <th>27</th>\n",
       "      <td>10</td>\n",
       "      <td>10 Kultur, fritid og anden service</td>\n",
       "    </tr>\n",
       "    <tr>\n",
       "      <th>28</th>\n",
       "      <td>R</td>\n",
       "      <td>R Kultur og fritid</td>\n",
       "    </tr>\n",
       "    <tr>\n",
       "      <th>29</th>\n",
       "      <td>S</td>\n",
       "      <td>S Andre serviceydelser mv.</td>\n",
       "    </tr>\n",
       "    <tr>\n",
       "      <th>30</th>\n",
       "      <td>11</td>\n",
       "      <td>11 Uoplyst aktivitet</td>\n",
       "    </tr>\n",
       "    <tr>\n",
       "      <th>31</th>\n",
       "      <td>X</td>\n",
       "      <td>X Uoplyst aktivitet</td>\n",
       "    </tr>\n",
       "  </tbody>\n",
       "</table>\n",
       "</div>"
      ],
      "text/plain": [
       "   id_var                                               text\n",
       "0     TOT                                  TOT Erhverv i alt\n",
       "1       1                    1 Landbrug, skovbrug og fiskeri\n",
       "2       A                    A Landbrug, skovbrug og fiskeri\n",
       "3       2  2 Industri, råstofindvinding og forsyningsvirk...\n",
       "4       B                                 B Råstofindvinding\n",
       "5       C                                         C Industri\n",
       "6       D                                  D Energiforsyning\n",
       "7       E                      E Vandforsyning og renovation\n",
       "8       3                                   3 Bygge og anlæg\n",
       "9       F                                   F Bygge og anlæg\n",
       "10      4                          4 Handel og transport mv.\n",
       "11      G                                           G Handel\n",
       "12      H                                        H Transport\n",
       "13      I                         I Hoteller og restauranter\n",
       "14      5                     5 Information og kommunikation\n",
       "15      J                     J Information og kommunikation\n",
       "16      6                       6 Finansiering og forsikring\n",
       "17      K                       K Finansiering og forsikring\n",
       "18      7                      7 Ejendomshandel og udlejning\n",
       "19      L                      L Ejendomshandel og udlejning\n",
       "20      8                                  8 Erhvervsservice\n",
       "21      M                                     M Videnservice\n",
       "22      N  N Rejsebureauer, rengøring og anden operatione...\n",
       "23      9  9 Offentlig administration, undervisning og su...\n",
       "24      O      O Offentlig administration, forsvar og politi\n",
       "25      P                                     P Undervisning\n",
       "26      Q                           Q Sundhed og socialvæsen\n",
       "27     10                 10 Kultur, fritid og anden service\n",
       "28      R                                 R Kultur og fritid\n",
       "29      S                         S Andre serviceydelser mv.\n",
       "30     11                               11 Uoplyst aktivitet\n",
       "31      X                                X Uoplyst aktivitet"
      ]
     },
     "execution_count": 35,
     "metadata": {},
     "output_type": "execute_result"
    }
   ],
   "source": [
    "ds[\"BRANCHE07\"].vals"
   ]
  },
  {
   "cell_type": "markdown",
   "metadata": {},
   "source": [
    "For at udvælge variable skal vi sortere i ovenstående datasæt, så vi kun har de variable, vi ønsker. "
   ]
  },
  {
   "cell_type": "code",
   "execution_count": 65,
   "metadata": {},
   "outputs": [
    {
     "name": "stdout",
     "output_type": "stream",
     "text": [
      "{'BRANCHE07': <Var: BRANCHE07, valgt: 2, i alt: 32>,\n",
      " 'SEKTOR': <Var: SEKTOR, valgt: 0, i alt: 3>,\n",
      " 'SOCIO': <Var: SOCIO, valgt: 3, i alt: 3>,\n",
      " 'TYPE': <Var: TYPE, valgt: 2, i alt: 4>,\n",
      " 'Tid': <Var: Tid, valgt: 32, i alt: 60>}\n"
     ]
    },
    {
     "data": {
      "text/plain": []
     },
     "execution_count": 65,
     "metadata": {},
     "output_type": "execute_result"
    }
   ],
   "source": [
    "udvalgte = [\n",
    "    \"C Industri\",\n",
    "    \"F Bygge og anlæg\"\n",
    "]\n",
    "\n",
    "ds[\"BRANCHE07\"] = (\n",
    "    ds[\"BRANCHE07\"]\n",
    "    .vals\n",
    "    .query(\"text in @udvalgte\")\n",
    ")\n",
    "\n",
    "ds"
   ]
  },
  {
   "cell_type": "markdown",
   "metadata": {},
   "source": [
    "Som vi ser ovenfor, så har vi nu udvalgt tre variable under branche.  \n",
    "Vi kan også vælge alle de mulige variable med følgende metode:  "
   ]
  },
  {
   "cell_type": "code",
   "execution_count": 66,
   "metadata": {},
   "outputs": [
    {
     "name": "stdout",
     "output_type": "stream",
     "text": [
      "{'BRANCHE07': <Var: BRANCHE07, valgt: 2, i alt: 32>,\n",
      " 'SEKTOR': <Var: SEKTOR, valgt: 0, i alt: 3>,\n",
      " 'SOCIO': <Var: SOCIO, valgt: 3, i alt: 3>,\n",
      " 'TYPE': <Var: TYPE, valgt: 2, i alt: 4>,\n",
      " 'Tid': <Var: Tid, valgt: 32, i alt: 60>}\n"
     ]
    },
    {
     "data": {
      "text/plain": []
     },
     "execution_count": 66,
     "metadata": {},
     "output_type": "execute_result"
    }
   ],
   "source": [
    "ds[\"SOCIO\"] = True\n",
    "ds"
   ]
  },
  {
   "cell_type": "markdown",
   "metadata": {},
   "source": [
    "Nedenfor udvælge alle datapunkter, der falder efter 2015.  \n",
    "Som det ses, så er vi istand til at manipulere med den DataFrame, som vi anvender til at lave vores udvælgelse, sålænge vi bevarer kolonnen 'id_vars'. "
   ]
  },
  {
   "cell_type": "code",
   "execution_count": 67,
   "metadata": {},
   "outputs": [
    {
     "name": "stdout",
     "output_type": "stream",
     "text": [
      "{'BRANCHE07': <Var: BRANCHE07, valgt: 2, i alt: 32>,\n",
      " 'SEKTOR': <Var: SEKTOR, valgt: 0, i alt: 3>,\n",
      " 'SOCIO': <Var: SOCIO, valgt: 3, i alt: 3>,\n",
      " 'TYPE': <Var: TYPE, valgt: 2, i alt: 4>,\n",
      " 'Tid': <Var: Tid, valgt: 32, i alt: 60>}\n"
     ]
    },
    {
     "data": {
      "text/plain": []
     },
     "execution_count": 67,
     "metadata": {},
     "output_type": "execute_result"
    }
   ],
   "source": [
    "ds[\"Tid\"] = (\n",
    "    ds[\"Tid\"]\n",
    "    .vals\n",
    "    .assign(\n",
    "        år=lambda df: df.text.str[:4]\n",
    "    )\n",
    "    .astype({\"år\": int})\n",
    "    .query(\"år >= 2015\")\n",
    ")\n",
    "ds"
   ]
  },
  {
   "cell_type": "markdown",
   "metadata": {},
   "source": [
    "Nogle variable er obligatoriske. Hvis vi allerede nu prøver at lave et kald, så vil det give en fejl:"
   ]
  },
  {
   "cell_type": "code",
   "execution_count": 68,
   "metadata": {},
   "outputs": [
    {
     "data": {
      "text/html": [
       "<div>\n",
       "<style scoped>\n",
       "    .dataframe tbody tr th:only-of-type {\n",
       "        vertical-align: middle;\n",
       "    }\n",
       "\n",
       "    .dataframe tbody tr th {\n",
       "        vertical-align: top;\n",
       "    }\n",
       "\n",
       "    .dataframe thead th {\n",
       "        text-align: right;\n",
       "    }\n",
       "</style>\n",
       "<table border=\"1\" class=\"dataframe\">\n",
       "  <thead>\n",
       "    <tr style=\"text-align: right;\">\n",
       "      <th></th>\n",
       "      <th>BRANCHE07</th>\n",
       "      <th>TYPE</th>\n",
       "      <th>SOCIO</th>\n",
       "      <th>TID</th>\n",
       "      <th>INDHOLD</th>\n",
       "    </tr>\n",
       "  </thead>\n",
       "  <tbody>\n",
       "    <tr>\n",
       "      <th>0</th>\n",
       "      <td>C Industri</td>\n",
       "      <td>Præsteret tid (1000 timer)</td>\n",
       "      <td>I alt</td>\n",
       "      <td>2015K1</td>\n",
       "      <td>112976</td>\n",
       "    </tr>\n",
       "    <tr>\n",
       "      <th>1</th>\n",
       "      <td>C Industri</td>\n",
       "      <td>Præsteret tid (1000 timer)</td>\n",
       "      <td>I alt</td>\n",
       "      <td>2015K2</td>\n",
       "      <td>113137</td>\n",
       "    </tr>\n",
       "    <tr>\n",
       "      <th>2</th>\n",
       "      <td>C Industri</td>\n",
       "      <td>Præsteret tid (1000 timer)</td>\n",
       "      <td>I alt</td>\n",
       "      <td>2015K3</td>\n",
       "      <td>109001</td>\n",
       "    </tr>\n",
       "    <tr>\n",
       "      <th>3</th>\n",
       "      <td>C Industri</td>\n",
       "      <td>Præsteret tid (1000 timer)</td>\n",
       "      <td>I alt</td>\n",
       "      <td>2015K4</td>\n",
       "      <td>116717</td>\n",
       "    </tr>\n",
       "    <tr>\n",
       "      <th>4</th>\n",
       "      <td>C Industri</td>\n",
       "      <td>Præsteret tid (1000 timer)</td>\n",
       "      <td>I alt</td>\n",
       "      <td>2016K1</td>\n",
       "      <td>114047</td>\n",
       "    </tr>\n",
       "  </tbody>\n",
       "</table>\n",
       "</div>"
      ],
      "text/plain": [
       "    BRANCHE07                        TYPE  SOCIO     TID  INDHOLD\n",
       "0  C Industri  Præsteret tid (1000 timer)  I alt  2015K1   112976\n",
       "1  C Industri  Præsteret tid (1000 timer)  I alt  2015K2   113137\n",
       "2  C Industri  Præsteret tid (1000 timer)  I alt  2015K3   109001\n",
       "3  C Industri  Præsteret tid (1000 timer)  I alt  2015K4   116717\n",
       "4  C Industri  Præsteret tid (1000 timer)  I alt  2016K1   114047"
      ]
     },
     "execution_count": 68,
     "metadata": {},
     "output_type": "execute_result"
    }
   ],
   "source": [
    "df = ds.get_data()\n",
    "df.head()"
   ]
  },
  {
   "cell_type": "markdown",
   "metadata": {},
   "source": [
    "Vi definerer derfor vores valg for den sidste variabel:"
   ]
  },
  {
   "cell_type": "code",
   "execution_count": 69,
   "metadata": {},
   "outputs": [],
   "source": [
    "ds[\"TYPE\"] = (\n",
    "    ds[\"TYPE\"]\n",
    "    .vals\n",
    "    .query(\"id_var.isin(['HAC', 'WSUM'])\")\n",
    ")"
   ]
  },
  {
   "cell_type": "markdown",
   "metadata": {},
   "source": [
    "Vi kan nu køre vores request og få data tilbage."
   ]
  },
  {
   "cell_type": "code",
   "execution_count": 70,
   "metadata": {},
   "outputs": [
    {
     "data": {
      "text/html": [
       "<div>\n",
       "<style scoped>\n",
       "    .dataframe tbody tr th:only-of-type {\n",
       "        vertical-align: middle;\n",
       "    }\n",
       "\n",
       "    .dataframe tbody tr th {\n",
       "        vertical-align: top;\n",
       "    }\n",
       "\n",
       "    .dataframe thead th {\n",
       "        text-align: right;\n",
       "    }\n",
       "</style>\n",
       "<table border=\"1\" class=\"dataframe\">\n",
       "  <thead>\n",
       "    <tr style=\"text-align: right;\">\n",
       "      <th></th>\n",
       "      <th>BRANCHE07</th>\n",
       "      <th>TYPE</th>\n",
       "      <th>SOCIO</th>\n",
       "      <th>TID</th>\n",
       "      <th>INDHOLD</th>\n",
       "    </tr>\n",
       "  </thead>\n",
       "  <tbody>\n",
       "    <tr>\n",
       "      <th>0</th>\n",
       "      <td>C Industri</td>\n",
       "      <td>Præsteret tid (1000 timer)</td>\n",
       "      <td>I alt</td>\n",
       "      <td>2015K1</td>\n",
       "      <td>112976</td>\n",
       "    </tr>\n",
       "    <tr>\n",
       "      <th>1</th>\n",
       "      <td>C Industri</td>\n",
       "      <td>Præsteret tid (1000 timer)</td>\n",
       "      <td>I alt</td>\n",
       "      <td>2015K2</td>\n",
       "      <td>113137</td>\n",
       "    </tr>\n",
       "    <tr>\n",
       "      <th>2</th>\n",
       "      <td>C Industri</td>\n",
       "      <td>Præsteret tid (1000 timer)</td>\n",
       "      <td>I alt</td>\n",
       "      <td>2015K3</td>\n",
       "      <td>109001</td>\n",
       "    </tr>\n",
       "    <tr>\n",
       "      <th>3</th>\n",
       "      <td>C Industri</td>\n",
       "      <td>Præsteret tid (1000 timer)</td>\n",
       "      <td>I alt</td>\n",
       "      <td>2015K4</td>\n",
       "      <td>116717</td>\n",
       "    </tr>\n",
       "    <tr>\n",
       "      <th>4</th>\n",
       "      <td>C Industri</td>\n",
       "      <td>Præsteret tid (1000 timer)</td>\n",
       "      <td>I alt</td>\n",
       "      <td>2016K1</td>\n",
       "      <td>114047</td>\n",
       "    </tr>\n",
       "  </tbody>\n",
       "</table>\n",
       "</div>"
      ],
      "text/plain": [
       "    BRANCHE07                        TYPE  SOCIO     TID  INDHOLD\n",
       "0  C Industri  Præsteret tid (1000 timer)  I alt  2015K1   112976\n",
       "1  C Industri  Præsteret tid (1000 timer)  I alt  2015K2   113137\n",
       "2  C Industri  Præsteret tid (1000 timer)  I alt  2015K3   109001\n",
       "3  C Industri  Præsteret tid (1000 timer)  I alt  2015K4   116717\n",
       "4  C Industri  Præsteret tid (1000 timer)  I alt  2016K1   114047"
      ]
     },
     "execution_count": 70,
     "metadata": {},
     "output_type": "execute_result"
    }
   ],
   "source": [
    "df = ds.get_data()\n",
    "df.head()"
   ]
  },
  {
   "cell_type": "markdown",
   "metadata": {},
   "source": [
    "Herfra er det os frit for at lave de manipulationer, som vi skal bruge.  \n",
    "Der gives et eksempel nedenfor:"
   ]
  },
  {
   "cell_type": "code",
   "execution_count": 116,
   "metadata": {},
   "outputs": [
    {
     "data": {
      "text/plain": [
       "branche\n",
       "Byggebranchen    AxesSubplot(0.125,0.125;0.775x0.755)\n",
       "Industri         AxesSubplot(0.125,0.125;0.775x0.755)\n",
       "Name: lønsum_pr_time, dtype: object"
      ]
     },
     "execution_count": 116,
     "metadata": {},
     "output_type": "execute_result"
    },
    {
     "data": {
      "image/png": "[encoded data removed]",
      "text/plain": [
       "<Figure size 432x288 with 1 Axes>"
      ]
     },
     "metadata": {
      "needs_background": "light"
     },
     "output_type": "display_data"
    }
   ],
   "source": [
    "(\n",
    "    df\n",
    "    .query(\"SOCIO == 'I alt'\")\n",
    "    .drop(columns=\"SOCIO\")\n",
    "    .replace(\n",
    "        {\n",
    "            \"BRANCHE07\": {\n",
    "                'C Industri': 'Industri',\n",
    "                'F Bygge og anlæg': 'Byggebranchen'\n",
    "            },\n",
    "            \"TID\": {\n",
    "                \"K\": \"Q\"\n",
    "            }\n",
    "        }, regex=True\n",
    "    )\n",
    "    .pivot(\n",
    "        index=[\"BRANCHE07\", \"TID\"], values=\"INDHOLD\", columns=\"TYPE\"\n",
    "    )\n",
    "    .reset_index()\n",
    "    .rename(\n",
    "        columns={\n",
    "            \"BRANCHE07\": \"branche\",\n",
    "            \"TID\": \"tid\",\n",
    "            \"Lønsum (mio. kr.)\": \"lønsum\",\n",
    "            \"Præsteret tid (1000 timer)\": \"præsteret\"\n",
    "        }\n",
    "    )\n",
    "    .assign(tid=lambda df: pd.to_datetime(df.tid))\n",
    "    .assign(lønsum_pr_time=lambda df: df.lønsum.mul(10**6)/df.præsteret.mul(1000))\n",
    "    .set_index(\"tid\")\n",
    "    .groupby(\"branche\")\n",
    "    .lønsum_pr_time\n",
    "    .rolling(4)\n",
    "    .mean()\n",
    "    .reset_index()\n",
    "    .set_index(\"tid\")\n",
    "    .groupby(\"branche\")\n",
    "    .lønsum_pr_time\n",
    "    .plot(legend=True, title=\"Lønsum/præsteret tid (rullende gnm.)\")\n",
    ")\n"
   ]
  }
 ],
 "metadata": {
  "kernelspec": {
   "display_name": "Python 3 (ipykernel)",
   "language": "python",
   "name": "python3"
  },
  "language_info": {
   "codemirror_mode": {
    "name": "ipython",
    "version": 3
   },
   "file_extension": ".py",
   "mimetype": "text/x-python",
   "name": "python",
   "nbconvert_exporter": "python",
   "pygments_lexer": "ipython3",
   "version": "3.8.12"
  }
 },
 "nbformat": 4,
 "nbformat_minor": 2
}
